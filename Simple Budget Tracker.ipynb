{
 "cells": [
  {
   "cell_type": "code",
   "execution_count": 51,
   "id": "38e1636c-4a14-48c9-959e-dd4a95ec18a3",
   "metadata": {},
   "outputs": [],
   "source": [
    "import datetime\n",
    "import string\n",
    "import csv"
   ]
  },
  {
   "cell_type": "code",
   "execution_count": 29,
   "id": "7fed8466-d631-4834-af0a-6fccebaffb46",
   "metadata": {},
   "outputs": [],
   "source": [
    "transactions = []"
   ]
  },
  {
   "cell_type": "code",
   "execution_count": 52,
   "id": "2507057b-c4ce-496b-aa3d-d19fc5ed744c",
   "metadata": {},
   "outputs": [],
   "source": [
    "# Phase 1 Define add_transaction()"
   ]
  },
  {
   "cell_type": "code",
   "execution_count": 53,
   "id": "f8b609b8-4e14-49d7-9e82-ceb3871825d3",
   "metadata": {},
   "outputs": [],
   "source": [
    "def add_transactions(transactions,type_):\n",
    "    amount = float(input(\"Enter the amount of money you want to add to :\"))\n",
    "    category = input(\"What is the category of the amount? \")\n",
    "    date = datetime.datetime.today().strftime(\"%Y-%m-%d\")\n",
    "    the_dict = {\n",
    "    \"type\":type_,\n",
    "    \"amount\":amount,\n",
    "    \"category\":category,\n",
    "    \"date\":date\n",
    "    }\n",
    "    transactions.append(the_dict)\n",
    "    print(transactions)"
   ]
  },
  {
   "cell_type": "code",
   "execution_count": 31,
   "id": "417fd919-c669-4c64-bb46-c382720f8a29",
   "metadata": {},
   "outputs": [
    {
     "name": "stdin",
     "output_type": "stream",
     "text": [
      "Enter the amount of money you want to add to : 1200000\n",
      "What is the category of the amount?  WDC\n"
     ]
    },
    {
     "name": "stdout",
     "output_type": "stream",
     "text": [
      "[{'type': 'Income', 'amount': 1200000.0, 'category': 'WDC', 'date': '2025-08-05'}]\n"
     ]
    }
   ],
   "source": [
    "add_transactions(transactions,\"Income\")"
   ]
  },
  {
   "cell_type": "code",
   "execution_count": 32,
   "id": "5d2c2f23-8b48-49ab-a001-4a750a769a9f",
   "metadata": {},
   "outputs": [
    {
     "name": "stdin",
     "output_type": "stream",
     "text": [
      "Enter the amount of money you want to add to : 130000\n",
      "What is the category of the amount?  WSX\n"
     ]
    },
    {
     "name": "stdout",
     "output_type": "stream",
     "text": [
      "[{'type': 'Income', 'amount': 1200000.0, 'category': 'WDC', 'date': '2025-08-05'}, {'type': 'Expense', 'amount': 130000.0, 'category': 'WSX', 'date': '2025-08-05'}]\n"
     ]
    }
   ],
   "source": [
    "add_transactions(transactions,\"Expense\")"
   ]
  },
  {
   "cell_type": "code",
   "execution_count": 33,
   "id": "858f8d1a-e8a1-447c-95dc-70b55eeb0cbb",
   "metadata": {},
   "outputs": [
    {
     "name": "stdin",
     "output_type": "stream",
     "text": [
      "Enter the amount of money you want to add to : 100000\n",
      "What is the category of the amount?  WSZ\n"
     ]
    },
    {
     "name": "stdout",
     "output_type": "stream",
     "text": [
      "[{'type': 'Income', 'amount': 1200000.0, 'category': 'WDC', 'date': '2025-08-05'}, {'type': 'Expense', 'amount': 130000.0, 'category': 'WSX', 'date': '2025-08-05'}, {'type': 'Income', 'amount': 100000.0, 'category': 'WSZ', 'date': '2025-08-05'}]\n"
     ]
    }
   ],
   "source": [
    "add_transactions(transactions,\"Income\")"
   ]
  },
  {
   "cell_type": "code",
   "execution_count": 34,
   "id": "c0b58655-a196-4485-8493-e8fac5fe6cf1",
   "metadata": {},
   "outputs": [
    {
     "name": "stdin",
     "output_type": "stream",
     "text": [
      "Enter the amount of money you want to add to : 1200003\n",
      "What is the category of the amount?  WQA\n"
     ]
    },
    {
     "name": "stdout",
     "output_type": "stream",
     "text": [
      "[{'type': 'Income', 'amount': 1200000.0, 'category': 'WDC', 'date': '2025-08-05'}, {'type': 'Expense', 'amount': 130000.0, 'category': 'WSX', 'date': '2025-08-05'}, {'type': 'Income', 'amount': 100000.0, 'category': 'WSZ', 'date': '2025-08-05'}, {'type': 'Income', 'amount': 1200003.0, 'category': 'WQA', 'date': '2025-08-05'}]\n"
     ]
    }
   ],
   "source": [
    "add_transactions(transactions,\"Income\")"
   ]
  },
  {
   "cell_type": "code",
   "execution_count": 35,
   "id": "2b471e6e-a138-42e3-9687-233344166594",
   "metadata": {},
   "outputs": [
    {
     "name": "stdin",
     "output_type": "stream",
     "text": [
      "Enter the amount of money you want to add to : 123444\n",
      "What is the category of the amount?  LOP\n"
     ]
    },
    {
     "name": "stdout",
     "output_type": "stream",
     "text": [
      "[{'type': 'Income', 'amount': 1200000.0, 'category': 'WDC', 'date': '2025-08-05'}, {'type': 'Expense', 'amount': 130000.0, 'category': 'WSX', 'date': '2025-08-05'}, {'type': 'Income', 'amount': 100000.0, 'category': 'WSZ', 'date': '2025-08-05'}, {'type': 'Income', 'amount': 1200003.0, 'category': 'WQA', 'date': '2025-08-05'}, {'type': 'Expense', 'amount': 123444.0, 'category': 'LOP', 'date': '2025-08-05'}]\n"
     ]
    }
   ],
   "source": [
    "add_transactions(transactions,\"Expense\")"
   ]
  },
  {
   "cell_type": "code",
   "execution_count": 36,
   "id": "c14c9f67-900c-4042-adc0-8685e6a5478d",
   "metadata": {},
   "outputs": [
    {
     "name": "stdin",
     "output_type": "stream",
     "text": [
      "Enter the amount of money you want to add to : 1202002\n",
      "What is the category of the amount?  YXZ\n"
     ]
    },
    {
     "name": "stdout",
     "output_type": "stream",
     "text": [
      "[{'type': 'Income', 'amount': 1200000.0, 'category': 'WDC', 'date': '2025-08-05'}, {'type': 'Expense', 'amount': 130000.0, 'category': 'WSX', 'date': '2025-08-05'}, {'type': 'Income', 'amount': 100000.0, 'category': 'WSZ', 'date': '2025-08-05'}, {'type': 'Income', 'amount': 1200003.0, 'category': 'WQA', 'date': '2025-08-05'}, {'type': 'Expense', 'amount': 123444.0, 'category': 'LOP', 'date': '2025-08-05'}, {'type': 'Expense', 'amount': 1202002.0, 'category': 'YXZ', 'date': '2025-08-05'}]\n"
     ]
    }
   ],
   "source": [
    "add_transactions(transactions,\"Expense\")"
   ]
  },
  {
   "cell_type": "code",
   "execution_count": 37,
   "id": "d645dabf-c4f4-4f86-9944-ca738f7f1940",
   "metadata": {},
   "outputs": [
    {
     "name": "stdin",
     "output_type": "stream",
     "text": [
      "Enter the amount of money you want to add to : 1253625\n",
      "What is the category of the amount?  YUP\n"
     ]
    },
    {
     "name": "stdout",
     "output_type": "stream",
     "text": [
      "[{'type': 'Income', 'amount': 1200000.0, 'category': 'WDC', 'date': '2025-08-05'}, {'type': 'Expense', 'amount': 130000.0, 'category': 'WSX', 'date': '2025-08-05'}, {'type': 'Income', 'amount': 100000.0, 'category': 'WSZ', 'date': '2025-08-05'}, {'type': 'Income', 'amount': 1200003.0, 'category': 'WQA', 'date': '2025-08-05'}, {'type': 'Expense', 'amount': 123444.0, 'category': 'LOP', 'date': '2025-08-05'}, {'type': 'Expense', 'amount': 1202002.0, 'category': 'YXZ', 'date': '2025-08-05'}, {'type': 'Income', 'amount': 1253625.0, 'category': 'YUP', 'date': '2025-08-05'}]\n"
     ]
    }
   ],
   "source": [
    "add_transactions(transactions,\"Income\")"
   ]
  },
  {
   "cell_type": "code",
   "execution_count": 54,
   "id": "c7fbf78e-43e1-4be5-a355-95e7134ce048",
   "metadata": {},
   "outputs": [],
   "source": [
    "# phase 2 Define display the balance function"
   ]
  },
  {
   "cell_type": "code",
   "execution_count": 55,
   "id": "680f15c7-5e03-489f-82f7-52cee476dab7",
   "metadata": {},
   "outputs": [],
   "source": [
    "def view_balance(transactions):\n",
    "    total_income = 0\n",
    "    total_expense = 0\n",
    "    for t in transactions:\n",
    "        if t['type'] == 'Income':\n",
    "            total_income += t['amount']\n",
    "        elif t['type'] == 'Expense':\n",
    "            total_expense += t['amount']\n",
    "    balance = total_income - total_expense\n",
    "    print(\"  Balance summary   \")\n",
    "    print(\"the total Income: {}\".format(total_income))\n",
    "    print(\"the total expense: {}\".format(total_expense))\n",
    "    print(\"The balance is : {}\".format(balance))\n",
    "            "
   ]
  },
  {
   "cell_type": "code",
   "execution_count": 56,
   "id": "2498c8c8-f4c9-4866-b496-a6609c148387",
   "metadata": {},
   "outputs": [
    {
     "name": "stdout",
     "output_type": "stream",
     "text": [
      "  Balance summary   \n",
      "the total Income: 3753628.0\n",
      "the total expense: 1455446.0\n",
      "The balance is : 2298182.0\n"
     ]
    }
   ],
   "source": [
    "view_balance(transactions)"
   ]
  },
  {
   "cell_type": "code",
   "execution_count": 57,
   "id": "8fa49510-9c47-4470-aed6-fd808f537048",
   "metadata": {},
   "outputs": [],
   "source": [
    "# save the files"
   ]
  },
  {
   "cell_type": "code",
   "execution_count": 47,
   "id": "48ba8a47-5170-4aeb-86f4-a41125e04ccc",
   "metadata": {},
   "outputs": [],
   "source": [
    "def save_to_file(transactions, filename=\"transactions.csv\"):\n",
    "    with open(filename, mode='w', newline='') as file:\n",
    "        fieldnames = ['type', 'amount', 'category', 'date']\n",
    "        writer = csv.DictWriter(file, fieldnames=fieldnames)\n",
    "\n",
    "        writer.writeheader()\n",
    "        for t in transactions:\n",
    "            writer.writerow(t)\n",
    "\n",
    "    print(f\"\\n Transactions saved to {filename}\")"
   ]
  },
  {
   "cell_type": "code",
   "execution_count": 48,
   "id": "2381564a-5aba-4aec-9ecc-ff7aaf4e8566",
   "metadata": {},
   "outputs": [
    {
     "name": "stdout",
     "output_type": "stream",
     "text": [
      "\n",
      " Transactions saved to transactions.csv\n"
     ]
    }
   ],
   "source": [
    " save_to_file(transactions,\"transactions.csv\")"
   ]
  },
  {
   "cell_type": "code",
   "execution_count": 58,
   "id": "446fdd9d-1c02-4b58-9d95-fb6d01e7a074",
   "metadata": {},
   "outputs": [],
   "source": [
    "# Displayed with pandas"
   ]
  },
  {
   "cell_type": "code",
   "execution_count": 59,
   "id": "9e218343-8247-4bf8-9e0a-1fb065bec48b",
   "metadata": {},
   "outputs": [],
   "source": [
    "import pandas as pd"
   ]
  },
  {
   "cell_type": "code",
   "execution_count": 60,
   "id": "a97c86e0-59d6-41d6-9e03-9a8dc31f287f",
   "metadata": {},
   "outputs": [
    {
     "data": {
      "text/html": [
       "<div>\n",
       "<style scoped>\n",
       "    .dataframe tbody tr th:only-of-type {\n",
       "        vertical-align: middle;\n",
       "    }\n",
       "\n",
       "    .dataframe tbody tr th {\n",
       "        vertical-align: top;\n",
       "    }\n",
       "\n",
       "    .dataframe thead th {\n",
       "        text-align: right;\n",
       "    }\n",
       "</style>\n",
       "<table border=\"1\" class=\"dataframe\">\n",
       "  <thead>\n",
       "    <tr style=\"text-align: right;\">\n",
       "      <th></th>\n",
       "      <th>type</th>\n",
       "      <th>amount</th>\n",
       "      <th>category</th>\n",
       "      <th>date</th>\n",
       "    </tr>\n",
       "  </thead>\n",
       "  <tbody>\n",
       "    <tr>\n",
       "      <th>0</th>\n",
       "      <td>Income</td>\n",
       "      <td>1200000.0</td>\n",
       "      <td>WDC</td>\n",
       "      <td>2025-08-05</td>\n",
       "    </tr>\n",
       "    <tr>\n",
       "      <th>1</th>\n",
       "      <td>Expense</td>\n",
       "      <td>130000.0</td>\n",
       "      <td>WSX</td>\n",
       "      <td>2025-08-05</td>\n",
       "    </tr>\n",
       "    <tr>\n",
       "      <th>2</th>\n",
       "      <td>Income</td>\n",
       "      <td>100000.0</td>\n",
       "      <td>WSZ</td>\n",
       "      <td>2025-08-05</td>\n",
       "    </tr>\n",
       "    <tr>\n",
       "      <th>3</th>\n",
       "      <td>Income</td>\n",
       "      <td>1200003.0</td>\n",
       "      <td>WQA</td>\n",
       "      <td>2025-08-05</td>\n",
       "    </tr>\n",
       "    <tr>\n",
       "      <th>4</th>\n",
       "      <td>Expense</td>\n",
       "      <td>123444.0</td>\n",
       "      <td>LOP</td>\n",
       "      <td>2025-08-05</td>\n",
       "    </tr>\n",
       "    <tr>\n",
       "      <th>5</th>\n",
       "      <td>Expense</td>\n",
       "      <td>1202002.0</td>\n",
       "      <td>YXZ</td>\n",
       "      <td>2025-08-05</td>\n",
       "    </tr>\n",
       "    <tr>\n",
       "      <th>6</th>\n",
       "      <td>Income</td>\n",
       "      <td>1253625.0</td>\n",
       "      <td>YUP</td>\n",
       "      <td>2025-08-05</td>\n",
       "    </tr>\n",
       "  </tbody>\n",
       "</table>\n",
       "</div>"
      ],
      "text/plain": [
       "      type     amount category        date\n",
       "0   Income  1200000.0      WDC  2025-08-05\n",
       "1  Expense   130000.0      WSX  2025-08-05\n",
       "2   Income   100000.0      WSZ  2025-08-05\n",
       "3   Income  1200003.0      WQA  2025-08-05\n",
       "4  Expense   123444.0      LOP  2025-08-05\n",
       "5  Expense  1202002.0      YXZ  2025-08-05\n",
       "6   Income  1253625.0      YUP  2025-08-05"
      ]
     },
     "execution_count": 60,
     "metadata": {},
     "output_type": "execute_result"
    }
   ],
   "source": [
    "pd.read_csv(\"transactions.csv\")"
   ]
  },
  {
   "cell_type": "code",
   "execution_count": null,
   "id": "e0083a5e-444f-4e34-b6bc-4bd76dca298c",
   "metadata": {},
   "outputs": [],
   "source": []
  }
 ],
 "metadata": {
  "kernelspec": {
   "display_name": "Python 3 (ipykernel)",
   "language": "python",
   "name": "python3"
  },
  "language_info": {
   "codemirror_mode": {
    "name": "ipython",
    "version": 3
   },
   "file_extension": ".py",
   "mimetype": "text/x-python",
   "name": "python",
   "nbconvert_exporter": "python",
   "pygments_lexer": "ipython3",
   "version": "3.12.4"
  }
 },
 "nbformat": 4,
 "nbformat_minor": 5
}
